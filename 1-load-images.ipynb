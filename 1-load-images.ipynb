{
 "cells": [
  {
   "cell_type": "markdown",
   "metadata": {},
   "source": [
    "# Read the TSV file and extract photo URLs"
   ]
  },
  {
   "cell_type": "code",
   "execution_count": null,
   "metadata": {},
   "outputs": [],
   "source": [
    "import csv\n",
    "import os\n",
    "import requests\n",
    "from urllib.parse import urlparse\n",
    "\n",
    "# Create a folder to store the images if it doesn't exist\n",
    "folder_name = 'photos'\n",
    "if not os.path.exists(folder_name):\n",
    "    os.makedirs(folder_name)\n",
    "\n",
    "\n",
    "with open('photos.tsv000', newline='', encoding='utf-8') as tsvfile:\n",
    "    reader = csv.DictReader(tsvfile, delimiter='\\t')\n",
    "    count = 0  # Counter for downloaded images\n",
    "    for row in reader:\n",
    "        photo_image_url = row['photo_image_url']\n",
    "\n",
    "        # Replace \"/\" in the URL path with \"!\" to be used as a file name that we can reconstruct into URL later\n",
    "        filename = photo_image_url.replace(\"/\", \"!\") \n",
    "        \n",
    "\n",
    "        try:\n",
    "            # Download the image\n",
    "            photo_image_url = f\"{photo_image_url}?w=640\"\n",
    "            response = requests.get(photo_image_url)\n",
    "            if response.status_code == 200:\n",
    "                # Save the image to the folder\n",
    "                count += 1\n",
    "                with open(os.path.join(folder_name, filename), 'wb') as f:\n",
    "                    f.write(response.content)\n",
    "                print(f\"Downloaded image {count}: {filename}\")\n",
    "            else:\n",
    "                print(f\"Failed to download image {filename}\")\n",
    "        except Exception as e:\n",
    "            print(f\"Error downloading image {filename}: {str(e)}\")\n",
    "\n",
    "print(\"All images downloaded successfully.\")\n"
   ]
  }
 ],
 "metadata": {
  "kernelspec": {
   "display_name": "photos",
   "language": "python",
   "name": "python3"
  },
  "language_info": {
   "codemirror_mode": {
    "name": "ipython",
    "version": 3
   },
   "file_extension": ".py",
   "mimetype": "text/x-python",
   "name": "python",
   "nbconvert_exporter": "python",
   "pygments_lexer": "ipython3",
   "version": "3.11.7"
  }
 },
 "nbformat": 4,
 "nbformat_minor": 2
}
